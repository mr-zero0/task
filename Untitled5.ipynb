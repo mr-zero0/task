{
 "cells": [
  {
   "cell_type": "code",
   "execution_count": 15,
   "metadata": {},
   "outputs": [
    {
     "name": "stdout",
     "output_type": "stream",
     "text": [
      "parameterized const\n",
      "name:  mohan\n",
      "age:  90\n",
      "depart:  EDP\n",
      "mohan 90 EDP\n"
     ]
    }
   ],
   "source": [
    "class Test:\n",
    "    def __init__(self):\n",
    "        print(\"default const\")\n",
    "        self.name=\"\"\n",
    "        self.age=0        \n",
    "        \n",
    "    def __init__(self,n,a):        \n",
    "        print(\"parameterized const\")        \n",
    "        self.name=n\n",
    "        self.age=a\n",
    "        \n",
    "    \n",
    "    def call(self):\n",
    "        self.depart=\"EDP\"\n",
    "        print(\"name: \",self.name)\n",
    "        print(\"age: \",self.age)\n",
    "    \n",
    "    def department(self):\n",
    "        print(\"depart: \",self.depart)\n",
    "        \n",
    "\n",
    "obj = Test(\"mohan\",90)\n",
    "obj.call()\n",
    "obj.department()\n",
    "print(obj.name,obj.age,obj.depart)"
   ]
  },
  {
   "cell_type": "code",
   "execution_count": 20,
   "metadata": {},
   "outputs": [
    {
     "name": "stdout",
     "output_type": "stream",
     "text": [
      "7\n",
      "7\n"
     ]
    }
   ],
   "source": [
    "class TestDemo:\n",
    "    val=7\n",
    "    \n",
    "    def call(self):\n",
    "        self.v=self.val\n",
    "        print(self.v)\n",
    "\n",
    "obj = TestDemo()\n",
    "obj.call()\n",
    "    \n",
    "print(TestDemo.val)\n",
    "    "
   ]
  },
  {
   "cell_type": "code",
   "execution_count": 24,
   "metadata": {},
   "outputs": [
    {
     "name": "stdout",
     "output_type": "stream",
     "text": [
      "6\n"
     ]
    }
   ],
   "source": [
    "class CAL:\n",
    "    val=1\n",
    "    def call(self):\n",
    "        self.val+=1\n",
    "                \n",
    "    def display(self):\n",
    "        print(self.val)\n",
    "        \n",
    "    \n",
    "obj = CAL()\n",
    "obj.call()\n",
    "obj.call()\n",
    "obj.call()\n",
    "obj.call()\n",
    "obj.call()\n",
    "obj.display()\n"
   ]
  },
  {
   "cell_type": "code",
   "execution_count": null,
   "metadata": {},
   "outputs": [],
   "source": []
  }
 ],
 "metadata": {
  "kernelspec": {
   "display_name": "Python 3",
   "language": "python",
   "name": "python3"
  },
  "language_info": {
   "codemirror_mode": {
    "name": "ipython",
    "version": 3
   },
   "file_extension": ".py",
   "mimetype": "text/x-python",
   "name": "python",
   "nbconvert_exporter": "python",
   "pygments_lexer": "ipython3",
   "version": "3.7.3"
  }
 },
 "nbformat": 4,
 "nbformat_minor": 2
}
